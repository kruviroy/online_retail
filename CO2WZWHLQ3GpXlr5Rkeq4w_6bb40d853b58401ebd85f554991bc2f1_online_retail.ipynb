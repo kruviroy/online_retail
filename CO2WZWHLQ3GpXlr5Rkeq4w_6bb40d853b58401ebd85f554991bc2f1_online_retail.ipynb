{
 "cells": [
  {
   "cell_type": "markdown",
   "metadata": {
    "pycharm": {
     "name": "#%% md\n"
    }
   },
   "source": [
    "# Portfolio Project: Online Retail Exploratory Data Analysis with Python"
   ]
  },
  {
   "cell_type": "markdown",
   "metadata": {
    "pycharm": {
     "name": "#%% md\n"
    }
   },
   "source": [
    "## Overview\n",
    "\n",
    "In this project, you will step into the shoes of an entry-level data analyst at an online retail company, helping interpret real-world data to help make a key business decision."
   ]
  },
  {
   "cell_type": "markdown",
   "metadata": {
    "pycharm": {
     "name": "#%% md\n"
    }
   },
   "source": [
    "## Case Study\n",
    "In this project, you will be working with transactional data from an online retail store. The dataset contains information about customer purchases, including product details, quantities, prices, and timestamps. Your task is to explore and analyze this dataset to gain insights into the store's sales trends, customer behavior, and popular products. \n",
    "\n",
    "By conducting exploratory data analysis, you will identify patterns, outliers, and correlations in the data, allowing you to make data-driven decisions and recommendations to optimize the store's operations and improve customer satisfaction. Through visualizations and statistical analysis, you will uncover key trends, such as the busiest sales months, best-selling products, and the store's most valuable customers. Ultimately, this project aims to provide actionable insights that can drive strategic business decisions and enhance the store's overall performance in the competitive online retail market."
   ]
  },
  {
   "cell_type": "markdown",
   "metadata": {
    "pycharm": {
     "name": "#%% md\n"
    }
   },
   "source": [
    "## Project Objectives\n",
    "1. Describe data to answer key questions to uncover insights\n",
    "2. Gain valuable insights that will help improve online retail performance\n",
    "3. Provide analytic insights and data-driven recommendations"
   ]
  },
  {
   "cell_type": "markdown",
   "metadata": {
    "pycharm": {
     "name": "#%% md\n"
    }
   },
   "source": [
    "## Dataset\n",
    "\n",
    "The dataset you will be working with is the \"Online Retail\" dataset. It contains transactional data of an online retail store from 2010 to 2011. The dataset is available as a .xlsx file named `Online Retail.xlsx`. This data file is already included in the Coursera Jupyter Notebook environment, however if you are working off-platform it can also be downloaded [here](https://archive.ics.uci.edu/ml/machine-learning-databases/00352/Online%20Retail.xlsx).\n",
    "\n",
    "The dataset contains the following columns:\n",
    "\n",
    "- InvoiceNo: Invoice number of the transaction\n",
    "- StockCode: Unique code of the product\n",
    "- Description: Description of the product\n",
    "- Quantity: Quantity of the product in the transaction\n",
    "- InvoiceDate: Date and time of the transaction\n",
    "- UnitPrice: Unit price of the product\n",
    "- CustomerID: Unique identifier of the customer\n",
    "- Country: Country where the transaction occurred"
   ]
  },
  {
   "cell_type": "markdown",
   "metadata": {
    "pycharm": {
     "name": "#%% md\n"
    }
   },
   "source": [
    "## Tasks\n",
    "\n",
    "You may explore this dataset in any way you would like - however if you'd like some help getting started, here are a few ideas:\n",
    "\n",
    "1. Load the dataset into a Pandas DataFrame and display the first few rows to get an overview of the data.\n",
    "2. Perform data cleaning by handling missing values, if any, and removing any redundant or unnecessary columns.\n",
    "3. Explore the basic statistics of the dataset, including measures of central tendency and dispersion.\n",
    "4. Perform data visualization to gain insights into the dataset. Generate appropriate plots, such as histograms, scatter plots, or bar plots, to visualize different aspects of the data.\n",
    "5. Analyze the sales trends over time. Identify the busiest months and days of the week in terms of sales.\n",
    "6. Explore the top-selling products and countries based on the quantity sold.\n",
    "7. Identify any outliers or anomalies in the dataset and discuss their potential impact on the analysis.\n",
    "8. Draw conclusions and summarize your findings from the exploratory data analysis."
   ]
  },
  {
   "cell_type": "markdown",
   "metadata": {
    "pycharm": {
     "name": "#%% md\n"
    }
   },
   "source": [
    "## Task 1: Load the Data"
   ]
  },
  {
   "cell_type": "code",
   "execution_count": 1,
   "metadata": {
    "pycharm": {
     "name": "#%%\n"
    }
   },
   "outputs": [],
   "source": [
    "import pandas as pd\n",
    "import numpy as np\n",
    "import statsmodels.formula.api as sm\n",
    "import seaborn as sns\n",
    "import matplotlib.pyplot as plt\n",
    "#Import libraries we may need"
   ]
  },
  {
   "cell_type": "code",
   "execution_count": 2,
   "metadata": {
    "scrolled": true,
    "pycharm": {
     "name": "#%%\n"
    }
   },
   "outputs": [
    {
     "data": {
      "text/html": [
       "<div>\n",
       "<style scoped>\n",
       "    .dataframe tbody tr th:only-of-type {\n",
       "        vertical-align: middle;\n",
       "    }\n",
       "\n",
       "    .dataframe tbody tr th {\n",
       "        vertical-align: top;\n",
       "    }\n",
       "\n",
       "    .dataframe thead th {\n",
       "        text-align: right;\n",
       "    }\n",
       "</style>\n",
       "<table border=\"1\" class=\"dataframe\">\n",
       "  <thead>\n",
       "    <tr style=\"text-align: right;\">\n",
       "      <th></th>\n",
       "      <th>InvoiceNo</th>\n",
       "      <th>StockCode</th>\n",
       "      <th>Description</th>\n",
       "      <th>Quantity</th>\n",
       "      <th>InvoiceDate</th>\n",
       "      <th>UnitPrice</th>\n",
       "      <th>CustomerID</th>\n",
       "      <th>Country</th>\n",
       "    </tr>\n",
       "  </thead>\n",
       "  <tbody>\n",
       "    <tr>\n",
       "      <th>541904</th>\n",
       "      <td>581587</td>\n",
       "      <td>22613</td>\n",
       "      <td>PACK OF 20 SPACEBOY NAPKINS</td>\n",
       "      <td>12</td>\n",
       "      <td>2011-12-09 12:50:00</td>\n",
       "      <td>0.85</td>\n",
       "      <td>12680.0</td>\n",
       "      <td>France</td>\n",
       "    </tr>\n",
       "    <tr>\n",
       "      <th>541905</th>\n",
       "      <td>581587</td>\n",
       "      <td>22899</td>\n",
       "      <td>CHILDREN'S APRON DOLLY GIRL</td>\n",
       "      <td>6</td>\n",
       "      <td>2011-12-09 12:50:00</td>\n",
       "      <td>2.10</td>\n",
       "      <td>12680.0</td>\n",
       "      <td>France</td>\n",
       "    </tr>\n",
       "    <tr>\n",
       "      <th>541906</th>\n",
       "      <td>581587</td>\n",
       "      <td>23254</td>\n",
       "      <td>CHILDRENS CUTLERY DOLLY GIRL</td>\n",
       "      <td>4</td>\n",
       "      <td>2011-12-09 12:50:00</td>\n",
       "      <td>4.15</td>\n",
       "      <td>12680.0</td>\n",
       "      <td>France</td>\n",
       "    </tr>\n",
       "    <tr>\n",
       "      <th>541907</th>\n",
       "      <td>581587</td>\n",
       "      <td>23255</td>\n",
       "      <td>CHILDRENS CUTLERY CIRCUS PARADE</td>\n",
       "      <td>4</td>\n",
       "      <td>2011-12-09 12:50:00</td>\n",
       "      <td>4.15</td>\n",
       "      <td>12680.0</td>\n",
       "      <td>France</td>\n",
       "    </tr>\n",
       "    <tr>\n",
       "      <th>541908</th>\n",
       "      <td>581587</td>\n",
       "      <td>22138</td>\n",
       "      <td>BAKING SET 9 PIECE RETROSPOT</td>\n",
       "      <td>3</td>\n",
       "      <td>2011-12-09 12:50:00</td>\n",
       "      <td>4.95</td>\n",
       "      <td>12680.0</td>\n",
       "      <td>France</td>\n",
       "    </tr>\n",
       "  </tbody>\n",
       "</table>\n",
       "</div>"
      ],
      "text/plain": [
       "       InvoiceNo StockCode                      Description  Quantity  \\\n",
       "541904    581587     22613      PACK OF 20 SPACEBOY NAPKINS        12   \n",
       "541905    581587     22899     CHILDREN'S APRON DOLLY GIRL          6   \n",
       "541906    581587     23254    CHILDRENS CUTLERY DOLLY GIRL          4   \n",
       "541907    581587     23255  CHILDRENS CUTLERY CIRCUS PARADE         4   \n",
       "541908    581587     22138    BAKING SET 9 PIECE RETROSPOT          3   \n",
       "\n",
       "               InvoiceDate  UnitPrice  CustomerID Country  \n",
       "541904 2011-12-09 12:50:00       0.85     12680.0  France  \n",
       "541905 2011-12-09 12:50:00       2.10     12680.0  France  \n",
       "541906 2011-12-09 12:50:00       4.15     12680.0  France  \n",
       "541907 2011-12-09 12:50:00       4.15     12680.0  France  \n",
       "541908 2011-12-09 12:50:00       4.95     12680.0  France  "
      ]
     },
     "execution_count": 2,
     "metadata": {},
     "output_type": "execute_result"
    }
   ],
   "source": [
    "# Specify the file path to the Excel file\n",
    "file_path = r'C:/Users/kruvi/Desktop/programs/python/CO2WZWHLQ3GpXlr5Rkeq4w_6bb40d853b58401ebd85f554991bc2f1_online_retail/Online_Retail.xlsx'\n",
    "\n",
    "# Read the Excel file\n",
    "data = pd.read_excel(file_path)\n",
    "\n",
    "# Display the first 5 rows of the data to ensure it loaded correctly\n",
    "data.head()\n",
    "# Display the lest 5 rows of the data to ensure it loaded correctly\n",
    "data.tail()"
   ]
  },
  {
   "cell_type": "markdown",
   "metadata": {
    "pycharm": {
     "name": "#%% md\n"
    }
   },
   "source": [
    "## **Preliminary analysis of the data prior to cleaning**"
   ]
  },
  {
   "cell_type": "code",
   "execution_count": 7,
   "metadata": {
    "pycharm": {
     "name": "#%%\n"
    }
   },
   "outputs": [
    {
     "data": {
      "text/html": [
       "<div>\n",
       "<style scoped>\n",
       "    .dataframe tbody tr th:only-of-type {\n",
       "        vertical-align: middle;\n",
       "    }\n",
       "\n",
       "    .dataframe tbody tr th {\n",
       "        vertical-align: top;\n",
       "    }\n",
       "\n",
       "    .dataframe thead th {\n",
       "        text-align: right;\n",
       "    }\n",
       "</style>\n",
       "<table border=\"1\" class=\"dataframe\">\n",
       "  <thead>\n",
       "    <tr style=\"text-align: right;\">\n",
       "      <th></th>\n",
       "      <th>Quantity</th>\n",
       "      <th>UnitPrice</th>\n",
       "      <th>CustomerID</th>\n",
       "    </tr>\n",
       "  </thead>\n",
       "  <tbody>\n",
       "    <tr>\n",
       "      <th>count</th>\n",
       "      <td>541909.000000</td>\n",
       "      <td>541909.000000</td>\n",
       "      <td>406829.000000</td>\n",
       "    </tr>\n",
       "    <tr>\n",
       "      <th>mean</th>\n",
       "      <td>9.552250</td>\n",
       "      <td>4.611114</td>\n",
       "      <td>15287.690570</td>\n",
       "    </tr>\n",
       "    <tr>\n",
       "      <th>std</th>\n",
       "      <td>218.081158</td>\n",
       "      <td>96.759853</td>\n",
       "      <td>1713.600303</td>\n",
       "    </tr>\n",
       "    <tr>\n",
       "      <th>min</th>\n",
       "      <td>-80995.000000</td>\n",
       "      <td>-11062.060000</td>\n",
       "      <td>12346.000000</td>\n",
       "    </tr>\n",
       "    <tr>\n",
       "      <th>25%</th>\n",
       "      <td>1.000000</td>\n",
       "      <td>1.250000</td>\n",
       "      <td>13953.000000</td>\n",
       "    </tr>\n",
       "    <tr>\n",
       "      <th>50%</th>\n",
       "      <td>3.000000</td>\n",
       "      <td>2.080000</td>\n",
       "      <td>15152.000000</td>\n",
       "    </tr>\n",
       "    <tr>\n",
       "      <th>75%</th>\n",
       "      <td>10.000000</td>\n",
       "      <td>4.130000</td>\n",
       "      <td>16791.000000</td>\n",
       "    </tr>\n",
       "    <tr>\n",
       "      <th>max</th>\n",
       "      <td>80995.000000</td>\n",
       "      <td>38970.000000</td>\n",
       "      <td>18287.000000</td>\n",
       "    </tr>\n",
       "  </tbody>\n",
       "</table>\n",
       "</div>"
      ],
      "text/plain": [
       "            Quantity      UnitPrice     CustomerID\n",
       "count  541909.000000  541909.000000  406829.000000\n",
       "mean        9.552250       4.611114   15287.690570\n",
       "std       218.081158      96.759853    1713.600303\n",
       "min    -80995.000000  -11062.060000   12346.000000\n",
       "25%         1.000000       1.250000   13953.000000\n",
       "50%         3.000000       2.080000   15152.000000\n",
       "75%        10.000000       4.130000   16791.000000\n",
       "max     80995.000000   38970.000000   18287.000000"
      ]
     },
     "execution_count": 7,
     "metadata": {},
     "output_type": "execute_result"
    }
   ],
   "source": [
    "#Describeing the data\n",
    "data.describe()"
   ]
  },
  {
   "cell_type": "markdown",
   "metadata": {
    "pycharm": {
     "name": "#%% md\n"
    }
   },
   "source": [
    "We've observed that 'Quantity' and 'UnitPrice' contain negative values in a few transactions, which may indicate product returns or refunds. We will investigate this further to understand its significance and decide whether to remove these entries. If they represent returns, the same transactions should appear as positive values from the buyer's perspective, making the negative entries redundant."
   ]
  },
  {
   "cell_type": "code",
   "execution_count": 17,
   "metadata": {
    "pycharm": {
     "name": "#%%\n"
    }
   },
   "outputs": [
    {
     "name": "stdout",
     "output_type": "stream",
     "text": [
      "<class 'pandas.core.frame.DataFrame'>\n",
      "RangeIndex: 541909 entries, 0 to 541908\n",
      "Data columns (total 8 columns):\n",
      " #   Column       Non-Null Count   Dtype         \n",
      "---  ------       --------------   -----         \n",
      " 0   InvoiceNo    541909 non-null  object        \n",
      " 1   StockCode    541909 non-null  object        \n",
      " 2   Description  540455 non-null  object        \n",
      " 3   Quantity     541909 non-null  int64         \n",
      " 4   InvoiceDate  541909 non-null  datetime64[ns]\n",
      " 5   UnitPrice    541909 non-null  float64       \n",
      " 6   CustomerID   406829 non-null  float64       \n",
      " 7   Country      541909 non-null  object        \n",
      "dtypes: datetime64[ns](1), float64(2), int64(1), object(4)\n",
      "memory usage: 33.1+ MB\n"
     ]
    }
   ],
   "source": [
    "#View the properties of each column\n",
    "data.info()"
   ]
  },
  {
   "cell_type": "markdown",
   "metadata": {
    "pycharm": {
     "name": "#%% md\n"
    }
   },
   "source": [
    "As we can see, all columns except for 'CustomerID' and 'Description' have the same number of non-null entries. Missing descriptions could lead to errors, but since there are very few such cases, we will remove those rows later. We are not focusing on individual customers, so purchases without a 'CustomerID' are unlikely to cause issues, especially as we can see that many purchases are made by anonymous customers."
   ]
  },
  {
   "cell_type": "markdown",
   "metadata": {
    "pycharm": {
     "name": "#%% md\n"
    }
   },
   "source": [
    "### Find the unique values in each colum"
   ]
  },
  {
   "cell_type": "code",
   "execution_count": 24,
   "metadata": {
    "pycharm": {
     "name": "#%%\n"
    }
   },
   "outputs": [
    {
     "name": "stdout",
     "output_type": "stream",
     "text": [
      "A list of unique values: ['WHITE HANGING HEART T-LIGHT HOLDER' 'WHITE METAL LANTERN'\n",
      " 'CREAM CUPID HEARTS COAT HANGER' ... 'lost'\n",
      " 'CREAM HANGING HEART T-LIGHT HOLDER' 'PAPER CRAFT , LITTLE BIRDIE']\n",
      "We have  4224  unique description values\n"
     ]
    }
   ],
   "source": [
    "# Display all unique values in the \"Description\" column\n",
    "unique_descriptions = data['Description'].unique()\n",
    "\n",
    "# Show the unique values\n",
    "print(\"A list of unique values:\", unique_descriptions)\n",
    "# Show the number of unique values\n",
    "print(\"We have \", len(unique_descriptions), \" unique description values\")"
   ]
  },
  {
   "cell_type": "markdown",
   "metadata": {
    "pycharm": {
     "name": "#%% md\n"
    }
   },
   "source": [
    "As we can see, there are many different types of products in the dataset."
   ]
  },
  {
   "cell_type": "code",
   "execution_count": 25,
   "metadata": {
    "pycharm": {
     "name": "#%%\n"
    }
   },
   "outputs": [
    {
     "name": "stdout",
     "output_type": "stream",
     "text": [
      "A list of countrys: ['United Kingdom' 'France' 'Australia' 'Netherlands' 'Germany' 'Norway'\n",
      " 'EIRE' 'Switzerland' 'Spain' 'Poland' 'Portugal' 'Italy' 'Belgium'\n",
      " 'Lithuania' 'Japan' 'Iceland' 'Channel Islands' 'Denmark' 'Cyprus'\n",
      " 'Sweden' 'Austria' 'Israel' 'Finland' 'Bahrain' 'Greece' 'Hong Kong'\n",
      " 'Singapore' 'Lebanon' 'United Arab Emirates' 'Saudi Arabia'\n",
      " 'Czech Republic' 'Canada' 'Unspecified' 'Brazil' 'USA'\n",
      " 'European Community' 'Malta' 'RSA']\n",
      "We have  38  unique description values\n"
     ]
    }
   ],
   "source": [
    "# Display all unique values in the \"Country\" column\n",
    "unique_Countrys = data['Country'].unique()\n",
    "\n",
    "# Show the unique values\n",
    "print(\"A list of countrys:\", unique_Countrys)\n",
    "# Show the number of difrants countrys\n",
    "print(\"We have \", len(unique_Countrys), \" unique description values\")"
   ]
  },
  {
   "cell_type": "code",
   "execution_count": 28,
   "metadata": {
    "pycharm": {
     "name": "#%%\n"
    }
   },
   "outputs": [
    {
     "name": "stdout",
     "output_type": "stream",
     "text": [
      "No duplicate columns found.\n"
     ]
    }
   ],
   "source": [
    "#Chack with there are duplicates.\n",
    "# Transpose the DataFrame so that columns become rows, and then drop duplicates\n",
    "duplicates = data.T.duplicated()\n",
    "\n",
    "# Print the names of duplicate columns\n",
    "duplicate_columns = data.columns[duplicates].tolist()\n",
    "\n",
    "if duplicate_columns:\n",
    "    print(\"Duplicate columns found:\", duplicate_columns)\n",
    "else:\n",
    "    print(\"No duplicate columns found.\")"
   ]
  },
  {
   "cell_type": "markdown",
   "metadata": {
    "pycharm": {
     "name": "#%% md\n"
    }
   },
   "source": [
    "## Cleaning the data"
   ]
  },
  {
   "cell_type": "markdown",
   "metadata": {
    "pycharm": {
     "name": "#%% md\n"
    }
   },
   "source": [
    "Let's begin by examining the percentage of extreme values in our dataset."
   ]
  },
  {
   "cell_type": "code",
   "execution_count": 33,
   "metadata": {
    "pycharm": {
     "name": "#%%\n"
    }
   },
   "outputs": [
    {
     "name": "stdout",
     "output_type": "stream",
     "text": [
      "Number of rows with 'Quantity' less than 0: 10624\n",
      "Number of rows with 'Quantity' greater than 20: 57091\n"
     ]
    }
   ],
   "source": [
    "# Count the number of rows where 'Quantity' is less than 0\n",
    "less_than_zero = (data['Quantity'] < 0).sum()\n",
    "\n",
    "# Count the number of rows where 'Quantity' is greater than 20\n",
    "greater_than_twenty = (data['Quantity'] > 20).sum()\n",
    "\n",
    "# Print the results\n",
    "print(f\"Number of rows with 'Quantity' less than 0: {less_than_zero}\")\n",
    "print(f\"Number of rows with 'Quantity' greater than 20: {greater_than_twenty}\")\n"
   ]
  },
  {
   "cell_type": "markdown",
   "metadata": {
    "pycharm": {
     "name": "#%% md\n"
    }
   },
   "source": [
    "We will check if the negative values in the 'Quantity' column represent sales that correspond to positive values in a different row."
   ]
  },
  {
   "cell_type": "code",
   "execution_count": 34,
   "metadata": {
    "pycharm": {
     "name": "#%%\n"
    }
   },
   "outputs": [
    {
     "name": "stdout",
     "output_type": "stream",
     "text": [
      "Number of negative 'Quantity' rows with matching positive counterpart: 7522\n"
     ]
    }
   ],
   "source": [
    "# Filter rows with negative 'Quantity' values\n",
    "negative_quantity_rows = data[data['Quantity'] < 0]\n",
    "\n",
    "# Initialize a counter for matching rows\n",
    "matching_rows = 0\n",
    "\n",
    "# Iterate through the negative quantity rows\n",
    "for index, row in negative_quantity_rows.iterrows():\n",
    "    # Create a filter for matching positive quantity rows with the same 'UnitPrice' and 'Description'\n",
    "    match_filter = (\n",
    "        (data['Quantity'] == -row['Quantity']) &  # Check for positive quantity\n",
    "        (data['UnitPrice'] == row['UnitPrice']) &  # Same 'UnitPrice'\n",
    "        (data['Description'] == row['Description'])  # Same 'Description'\n",
    "    )\n",
    "    \n",
    "    # Check if any matching rows exist\n",
    "    if data[match_filter].shape[0] > 0:\n",
    "        matching_rows += 1\n",
    "\n",
    "# Output the result\n",
    "print(f\"Number of negative 'Quantity' rows with matching positive counterpart: {matching_rows}\")\n"
   ]
  },
  {
   "cell_type": "markdown",
   "metadata": {
    "pycharm": {
     "name": "#%% md\n"
    }
   },
   "source": [
    "We observe that the majority of rows with negative 'Quantity' have a corresponding positive counterpart. This suggests that most of these entries represent sales, allowing us to focus on the purchase entries and disregard the sales rows."
   ]
  },
  {
   "cell_type": "code",
   "execution_count": 95,
   "metadata": {
    "pycharm": {
     "name": "#%%\n"
    }
   },
   "outputs": [
    {
     "name": "stdout",
     "output_type": "stream",
     "text": [
      "Number of rows after filtering: 531285\n"
     ]
    }
   ],
   "source": [
    "# Remove rows where 'Quantity' is negative\n",
    "filtered_data = data[data['Quantity'] >= 0]\n",
    "\n",
    "# Display the number of remaining rows in the new filtered data\n",
    "print(f\"Number of rows after filtering: {len(filtered_data)}\")"
   ]
  },
  {
   "cell_type": "markdown",
   "metadata": {
    "pycharm": {
     "name": "#%% md\n"
    }
   },
   "source": [
    "We also observe a small number of large-quantity purchases (defined as those exceeding 20 units). To prevent these outliers from skewing our calculations, we will exclude them from the analysis."
   ]
  },
  {
   "cell_type": "code",
   "execution_count": 96,
   "metadata": {
    "pycharm": {
     "name": "#%%\n"
    }
   },
   "outputs": [
    {
     "name": "stdout",
     "output_type": "stream",
     "text": [
      "Number of rows after filtering: 474194\n"
     ]
    }
   ],
   "source": [
    "# Remove rows where 'Quantity' is to large\n",
    "filtered_data = filtered_data[filtered_data['Quantity'] <= 20]\n",
    "\n",
    "# Display the number of remaining rows in the new filtered data\n",
    "print(f\"Number of rows after filtering: {len(filtered_data)}\")"
   ]
  },
  {
   "cell_type": "markdown",
   "metadata": {
    "pycharm": {
     "name": "#%% md\n"
    }
   },
   "source": [
    "Now we will do similer filtering with the coulum \"UnitPrice\""
   ]
  },
  {
   "cell_type": "code",
   "execution_count": 43,
   "metadata": {
    "pycharm": {
     "name": "#%%\n"
    }
   },
   "outputs": [
    {
     "name": "stdout",
     "output_type": "stream",
     "text": [
      "Number of rows with 'Quantity' less then 0: 2\n",
      "Number of rows with 'Quantity' equal to 0: 897\n",
      "Number of rows with 'Quantity' greater than 1,000: 54\n"
     ]
    }
   ],
   "source": [
    "# Count the number of rows where 'UnitPrice' is less than 0\n",
    "less_than_zero = (filtered_data['UnitPrice'] < 0).sum()\n",
    "\n",
    "# Count the number of rows where 'UnitPrice' is 0\n",
    "equal_to_zero = (filtered_data['UnitPrice'] == 0).sum()\n",
    "\n",
    "# Count the number of rows where 'UnitPrice' is greater than 20\n",
    "greater_than_thousand = (filtered_data['UnitPrice'] > 1000).sum()\n",
    "\n",
    "# Print the results\n",
    "print(f\"Number of rows with 'Quantity' less then 0: {less_than_zero}\")\n",
    "print(f\"Number of rows with 'Quantity' equal to 0: {equal_to_zero}\")\n",
    "print(f\"Number of rows with 'Quantity' greater than 1,000: {greater_than_thousand}\")\n",
    "\n"
   ]
  },
  {
   "cell_type": "markdown",
   "metadata": {
    "pycharm": {
     "name": "#%% md\n"
    }
   },
   "source": [
    "Transactions with a price of 0 offer minimal value for our analysis, so we will remove them. Additionally, there are two transactions with negative prices, labeled as \"Adjust bad debt,\" which do not contribute to our calculations. High-value transactions (defined as those exceeding 1,000) are also less relevant, as most are labeled \"AMAZON FEE.\" Therefore, we will exclude these as well."
   ]
  },
  {
   "cell_type": "code",
   "execution_count": 97,
   "metadata": {
    "pycharm": {
     "name": "#%%\n"
    }
   },
   "outputs": [
    {
     "name": "stdout",
     "output_type": "stream",
     "text": [
      "Number of rows after filtering: 473241\n"
     ]
    }
   ],
   "source": [
    "# Remove rows where 'UnitPrice' is negative or 0\n",
    "filtered_data = filtered_data[filtered_data['UnitPrice'] > 0]\n",
    "\n",
    "# Remove rows where 'UnitPrice' is to big\n",
    "filtered_data = filtered_data[filtered_data['UnitPrice'] <= 1000]\n",
    "\n",
    "# Display the number of remaining rows in the new filtered data\n",
    "print(f\"Number of rows after filtering: {len(filtered_data)}\")"
   ]
  },
  {
   "cell_type": "markdown",
   "metadata": {
    "pycharm": {
     "name": "#%% md\n"
    }
   },
   "source": [
    "Let's check if there are any null rows, and if found, we will remove them."
   ]
  },
  {
   "cell_type": "code",
   "execution_count": 46,
   "metadata": {
    "pycharm": {
     "name": "#%%\n"
    }
   },
   "outputs": [
    {
     "name": "stdout",
     "output_type": "stream",
     "text": [
      "InvoiceNo           0\n",
      "StockCode           0\n",
      "Description         0\n",
      "Quantity            0\n",
      "InvoiceDate         0\n",
      "UnitPrice           0\n",
      "CustomerID     130006\n",
      "Country             0\n",
      "dtype: int64\n"
     ]
    }
   ],
   "source": [
    "print(filtered_data.isnull().sum())"
   ]
  },
  {
   "cell_type": "markdown",
   "metadata": {
    "pycharm": {
     "name": "#%% md\n"
    }
   },
   "source": [
    "We can see that only \"CustomerID\" contains null values. Since the identity of the customer is not crucial for our analysis, there's no need to delete these rows."
   ]
  },
  {
   "cell_type": "markdown",
   "metadata": {
    "pycharm": {
     "name": "#%% md\n"
    }
   },
   "source": [
    "## Finding the most interesting countries and products"
   ]
  },
  {
   "cell_type": "markdown",
   "metadata": {
    "pycharm": {
     "name": "#%% md\n"
    }
   },
   "source": [
    "There are likely significant variations in transaction quantities across different products and countries. Therefore, we will first identify the key products and countries and focus our analysis on them."
   ]
  },
  {
   "cell_type": "code",
   "execution_count": 98,
   "metadata": {
    "pycharm": {
     "name": "#%%\n"
    }
   },
   "outputs": [
    {
     "data": {
      "text/html": [
       "<div>\n",
       "<style scoped>\n",
       "    .dataframe tbody tr th:only-of-type {\n",
       "        vertical-align: middle;\n",
       "    }\n",
       "\n",
       "    .dataframe tbody tr th {\n",
       "        vertical-align: top;\n",
       "    }\n",
       "\n",
       "    .dataframe thead th {\n",
       "        text-align: right;\n",
       "    }\n",
       "</style>\n",
       "<table border=\"1\" class=\"dataframe\">\n",
       "  <thead>\n",
       "    <tr style=\"text-align: right;\">\n",
       "      <th></th>\n",
       "      <th>InvoiceNo</th>\n",
       "      <th>StockCode</th>\n",
       "      <th>Description</th>\n",
       "      <th>Quantity</th>\n",
       "      <th>InvoiceDate</th>\n",
       "      <th>UnitPrice</th>\n",
       "      <th>CustomerID</th>\n",
       "      <th>Country</th>\n",
       "      <th>transaction_price</th>\n",
       "    </tr>\n",
       "  </thead>\n",
       "  <tbody>\n",
       "    <tr>\n",
       "      <th>0</th>\n",
       "      <td>536365</td>\n",
       "      <td>85123A</td>\n",
       "      <td>WHITE HANGING HEART T-LIGHT HOLDER</td>\n",
       "      <td>6</td>\n",
       "      <td>2010-12-01 08:26:00</td>\n",
       "      <td>2.55</td>\n",
       "      <td>17850.0</td>\n",
       "      <td>United Kingdom</td>\n",
       "      <td>15.30</td>\n",
       "    </tr>\n",
       "    <tr>\n",
       "      <th>1</th>\n",
       "      <td>536365</td>\n",
       "      <td>71053</td>\n",
       "      <td>WHITE METAL LANTERN</td>\n",
       "      <td>6</td>\n",
       "      <td>2010-12-01 08:26:00</td>\n",
       "      <td>3.39</td>\n",
       "      <td>17850.0</td>\n",
       "      <td>United Kingdom</td>\n",
       "      <td>20.34</td>\n",
       "    </tr>\n",
       "    <tr>\n",
       "      <th>2</th>\n",
       "      <td>536365</td>\n",
       "      <td>84406B</td>\n",
       "      <td>CREAM CUPID HEARTS COAT HANGER</td>\n",
       "      <td>8</td>\n",
       "      <td>2010-12-01 08:26:00</td>\n",
       "      <td>2.75</td>\n",
       "      <td>17850.0</td>\n",
       "      <td>United Kingdom</td>\n",
       "      <td>22.00</td>\n",
       "    </tr>\n",
       "    <tr>\n",
       "      <th>3</th>\n",
       "      <td>536365</td>\n",
       "      <td>84029G</td>\n",
       "      <td>KNITTED UNION FLAG HOT WATER BOTTLE</td>\n",
       "      <td>6</td>\n",
       "      <td>2010-12-01 08:26:00</td>\n",
       "      <td>3.39</td>\n",
       "      <td>17850.0</td>\n",
       "      <td>United Kingdom</td>\n",
       "      <td>20.34</td>\n",
       "    </tr>\n",
       "    <tr>\n",
       "      <th>4</th>\n",
       "      <td>536365</td>\n",
       "      <td>84029E</td>\n",
       "      <td>RED WOOLLY HOTTIE WHITE HEART.</td>\n",
       "      <td>6</td>\n",
       "      <td>2010-12-01 08:26:00</td>\n",
       "      <td>3.39</td>\n",
       "      <td>17850.0</td>\n",
       "      <td>United Kingdom</td>\n",
       "      <td>20.34</td>\n",
       "    </tr>\n",
       "  </tbody>\n",
       "</table>\n",
       "</div>"
      ],
      "text/plain": [
       "  InvoiceNo StockCode                          Description  Quantity  \\\n",
       "0    536365    85123A   WHITE HANGING HEART T-LIGHT HOLDER         6   \n",
       "1    536365     71053                  WHITE METAL LANTERN         6   \n",
       "2    536365    84406B       CREAM CUPID HEARTS COAT HANGER         8   \n",
       "3    536365    84029G  KNITTED UNION FLAG HOT WATER BOTTLE         6   \n",
       "4    536365    84029E       RED WOOLLY HOTTIE WHITE HEART.         6   \n",
       "\n",
       "          InvoiceDate  UnitPrice  CustomerID         Country  \\\n",
       "0 2010-12-01 08:26:00       2.55     17850.0  United Kingdom   \n",
       "1 2010-12-01 08:26:00       3.39     17850.0  United Kingdom   \n",
       "2 2010-12-01 08:26:00       2.75     17850.0  United Kingdom   \n",
       "3 2010-12-01 08:26:00       3.39     17850.0  United Kingdom   \n",
       "4 2010-12-01 08:26:00       3.39     17850.0  United Kingdom   \n",
       "\n",
       "   transaction_price  \n",
       "0              15.30  \n",
       "1              20.34  \n",
       "2              22.00  \n",
       "3              20.34  \n",
       "4              20.34  "
      ]
     },
     "execution_count": 98,
     "metadata": {},
     "output_type": "execute_result"
    }
   ],
   "source": [
    "# Add a new column that represents the total value of each transaction.\n",
    "filtered_data['transaction_price'] = filtered_data['UnitPrice']*filtered_data['Quantity']\n",
    "filtered_data.head()"
   ]
  },
  {
   "cell_type": "markdown",
   "metadata": {
    "pycharm": {
     "name": "#%% md\n"
    }
   },
   "source": [
    "We will present a graph showing the top three countries for each month based on the total value of their transactions. This visual representation will help us identify which countries we should focus on for further analysis."
   ]
  },
  {
   "cell_type": "code",
   "execution_count": 50,
   "metadata": {
    "pycharm": {
     "name": "#%%\n"
    }
   },
   "outputs": [
    {
     "data": {
      "image/png": "[encoded data removed]",
      "text/plain": [
       "<Figure size 1000x600 with 1 Axes>"
      ]
     },
     "metadata": {},
     "output_type": "display_data"
    }
   ],
   "source": [
    "# Assuming your data is named 'filtered_data' and has a 'transaction_price', 'Country', and 'InvoiceDate' column\n",
    "# Convert 'InvoiceDate' to datetime format if it's not already\n",
    "filtered_data['InvoiceDate'] = pd.to_datetime(filtered_data['InvoiceDate'])\n",
    "\n",
    "# Create a 'Month' column for grouping\n",
    "filtered_data['Month'] = filtered_data['InvoiceDate'].dt.to_period('M')\n",
    "\n",
    "# Group by month and country, summing the 'transaction_price' for each\n",
    "monthly_country_sum = filtered_data.groupby(['Month', 'Country'])['transaction_price'].sum().reset_index()\n",
    "\n",
    "# Find the top 3 countries for each month based on the sum of 'transaction_price'\n",
    "top3_countries_per_month = monthly_country_sum.groupby('Month').apply(\n",
    "    lambda x: x.nlargest(3, 'transaction_price')\n",
    ").reset_index(drop=True)\n",
    "\n",
    "# Pivot the data for plotting (with months as x-axis and top 3 countries per month as bars)\n",
    "pivot_data = top3_countries_per_month.pivot(index='Month', columns='Country', values='transaction_price').fillna(0)\n",
    "\n",
    "# Set up the bar chart\n",
    "months = pivot_data.index.astype(str)\n",
    "countries = pivot_data.columns\n",
    "x = np.arange(len(months))  # the label locations\n",
    "width = 0.25  # the width of the bars\n",
    "multiplier = 0\n",
    "\n",
    "fig, ax = plt.subplots(figsize=(10, 6), layout='constrained')\n",
    "\n",
    "# Plot each country's bar for each month\n",
    "for country in countries:\n",
    "    offset = width * multiplier\n",
    "    rects = ax.bar(x + offset, pivot_data[country], width, label=country)\n",
    "    # Remove this line to stop showing the numbers on top of the bars\n",
    "    # ax.bar_label(rects, padding=3)\n",
    "    multiplier += 1\n",
    "\n",
    "# Add labels and formatting\n",
    "ax.set_ylabel('Total Transaction Price')\n",
    "ax.set_title('Top 3 Countries by Monthly Transaction Price')\n",
    "ax.set_xticks(x + width, months, rotation=45)\n",
    "ax.legend(loc='upper left', ncols=3)\n",
    "ax.set_ylim(0, pivot_data.max().max() * 1.1)  # Set y-limit slightly above the max value\n",
    "\n",
    "plt.show()"
   ]
  },
  {
   "cell_type": "markdown",
   "metadata": {
    "pycharm": {
     "name": "#%% md\n"
    }
   },
   "source": [
    "As we can see, the United Kingdom is by far the most significant market for our store. Therefore, moving forward, we will focus exclusively on the United Kingdom. Next, we aim to identify the most important products. To achieve this, we will create a graph displaying the top 10 products based on their total transaction value."
   ]
  },
  {
   "cell_type": "code",
   "execution_count": 99,
   "metadata": {
    "pycharm": {
     "name": "#%%\n"
    }
   },
   "outputs": [
    {
     "name": "stdout",
     "output_type": "stream",
     "text": [
      "Number of rows after filtering: 438576\n"
     ]
    }
   ],
   "source": [
    "# Remove rows where 'Country' is not the UK\n",
    "filtered_data = filtered_data[filtered_data['Country'] == \"United Kingdom\"]\n",
    "\n",
    "# Display the number of remaining rows in the new filtered data\n",
    "print(f\"Number of rows after filtering: {len(filtered_data)}\")"
   ]
  },
  {
   "cell_type": "code",
   "execution_count": 57,
   "metadata": {
    "pycharm": {
     "name": "#%%\n"
    }
   },
   "outputs": [
    {
     "data": {
      "image/png": "[encoded data removed]",
      "text/plain": [
       "<Figure size 1200x800 with 1 Axes>"
      ]
     },
     "metadata": {},
     "output_type": "display_data"
    }
   ],
   "source": [
    "# Assuming your data is named 'filtered_data' and has 'transaction_price', 'Description', and 'InvoiceDate' columns\n",
    "# Convert 'InvoiceDate' to datetime format if it's not already\n",
    "filtered_data['InvoiceDate'] = pd.to_datetime(filtered_data['InvoiceDate'])\n",
    "\n",
    "# Group by description and sum the 'transaction_price'\n",
    "description_sum = filtered_data.groupby('Description')['transaction_price'].sum().reset_index()\n",
    "\n",
    "# Get the top 10 descriptions based on the sum of 'transaction_price'\n",
    "top10_descriptions = description_sum.nlargest(10, 'transaction_price')\n",
    "\n",
    "# Sort the top 10 descriptions in descending order\n",
    "top10_descriptions = top10_descriptions.sort_values(by='transaction_price', ascending=False)\n",
    "\n",
    "# Set up the bar chart\n",
    "descriptions = top10_descriptions['Description']\n",
    "transaction_prices = top10_descriptions['transaction_price']\n",
    "x = np.arange(len(descriptions))  # the label locations\n",
    "width = 0.6  # the width of the bars\n",
    "\n",
    "fig, ax = plt.subplots(figsize=(12, 8), layout='constrained')\n",
    "\n",
    "# Plot bars\n",
    "rects = ax.bar(x, transaction_prices, width, color='skyblue')\n",
    "\n",
    "# Add labels and formatting\n",
    "ax.set_ylabel('Total Transaction Price')\n",
    "ax.set_title('Top 10 Descriptions by Total Transaction Price')\n",
    "ax.set_xticks(x)\n",
    "ax.set_xticklabels(descriptions, rotation=45, ha='right')\n",
    "\n",
    "# Optional: Add value labels on top of bars\n",
    "for rect in rects:\n",
    "    height = rect.get_height()\n",
    "    ax.text(rect.get_x() + rect.get_width() / 2., height, f'{height:.2f}', ha='center', va='bottom')\n",
    "\n",
    "plt.show()"
   ]
  },
  {
   "cell_type": "markdown",
   "metadata": {
    "pycharm": {
     "name": "#%% md\n"
    }
   },
   "source": [
    "We see that the product with the highest transaction value is 'dotcom postage.' This is not surprising, as customers often pay such taxes. However, this product is not relevant to our research. Therefore, we will remove it from our data and focus on the remaining products. It's important to note that this change does not affect the fact that the UK remains the country with the highest transaction value."
   ]
  },
  {
   "cell_type": "code",
   "execution_count": 87,
   "metadata": {
    "pycharm": {
     "name": "#%%\n"
    }
   },
   "outputs": [
    {
     "name": "stdout",
     "output_type": "stream",
     "text": [
      "Number of rows after filtering: 473241\n"
     ]
    }
   ],
   "source": [
    "# Assuming filtered_data is your DataFrame\n",
    "filtered_data = filtered_data[filtered_data['Description'] != 'dotcom postage']\n",
    "\n",
    "# Display the number of remaining rows in the new filtered data\n",
    "print(f\"Number of rows after filtering: {len(filtered_data)}\")"
   ]
  },
  {
   "cell_type": "markdown",
   "metadata": {
    "pycharm": {
     "name": "#%% md\n"
    }
   },
   "source": [
    "## Analysis of Key Products"
   ]
  },
  {
   "cell_type": "markdown",
   "metadata": {
    "pycharm": {
     "name": "#%% md\n"
    }
   },
   "source": [
    "We identified that the key product is the \"Regency Cakestand 3 Tier.\" Next, we will analyze the performance and behavior of this product."
   ]
  },
  {
   "cell_type": "code",
   "execution_count": 66,
   "metadata": {
    "pycharm": {
     "name": "#%%\n"
    }
   },
   "outputs": [
    {
     "name": "stderr",
     "output_type": "stream",
     "text": [
      "C:\\Users\\kruvi\\AppData\\Local\\Temp\\ipykernel_16624\\147498084.py:15: FutureWarning: The default value of numeric_only in DataFrameGroupBy.median is deprecated. In a future version, numeric_only will default to False. Either specify numeric_only or select only columns which should be valid for the function.\n",
      "  cakestand_median = cakestand_data.groupby('DayOfWeek').median().reindex([\n"
     ]
    },
    {
     "data": {
      "image/png": "[encoded data removed]",
      "text/plain": [
       "<Figure size 1000x600 with 1 Axes>"
      ]
     },
     "metadata": {},
     "output_type": "display_data"
    }
   ],
   "source": [
    "# Convert 'InvoiceDate' to datetime format if it's not already\n",
    "filtered_data['InvoiceDate'] = pd.to_datetime(filtered_data['InvoiceDate'])\n",
    "\n",
    "# Extract day of the week (0=Monday, 6=Sunday)\n",
    "filtered_data['DayOfWeek'] = filtered_data['InvoiceDate'].dt.day_name()\n",
    "\n",
    "# Filter data for \"REGENCY CAKESTAND 3 TIER\"\n",
    "cakestand_data = filtered_data[filtered_data['Description'] == \"REGENCY CAKESTAND 3 TIER\"]\n",
    "\n",
    "# Calculate the median for 'transaction_price', 'UnitPrice', and 'Quantity' for each day of the week\n",
    "cakestand_median = cakestand_data.groupby('DayOfWeek').median().reindex([\n",
    "    'Monday', 'Tuesday', 'Wednesday', 'Thursday', 'Friday', 'Saturday', 'Sunday'\n",
    "]).fillna(0)\n",
    "\n",
    "# Prepare data for plotting\n",
    "days_of_week = cakestand_median.index\n",
    "transaction_price_median = cakestand_median['transaction_price']\n",
    "unit_price_median = cakestand_median['UnitPrice']\n",
    "quantity_median = cakestand_median['Quantity']\n",
    "\n",
    "# Plot setup\n",
    "dim = 3  # Three sets of bars (for transaction_price, UnitPrice, and Quantity)\n",
    "w = 0.75  # Total bar width\n",
    "dimw = w / dim  # Width of each individual bar\n",
    "\n",
    "fig, ax = plt.subplots(figsize=(10, 6))  # Create larger plot\n",
    "x = np.arange(len(days_of_week))  # X-axis positions\n",
    "\n",
    "# Plot the bars for transaction_price, UnitPrice, and Quantity\n",
    "rects1 = ax.bar(x, transaction_price_median, dimw, label='Transaction Price')\n",
    "rects2 = ax.bar(x + dimw, unit_price_median, dimw, label='Unit Price')\n",
    "rects3 = ax.bar(x + 2 * dimw, quantity_median, dimw, label='Quantity')\n",
    "\n",
    "# Add labels and formatting\n",
    "ax.set_xticks(x + dimw)\n",
    "ax.set_xticklabels(days_of_week)\n",
    "ax.set_xlabel('Day of the Week')\n",
    "ax.set_ylabel('Median Values')\n",
    "ax.set_title('Median Transaction Price, Unit Price, and Quantity for REGENCY CAKESTAND 3 TIER')\n",
    "ax.legend()\n",
    "\n",
    "# Show the plot\n",
    "plt.show()\n"
   ]
  },
  {
   "cell_type": "markdown",
   "metadata": {
    "pycharm": {
     "name": "#%% md\n"
    }
   },
   "source": [
    "As we can see, the data for 'REGENCY CAKESTAND 3 TIER' doesn’t vary significantly across days. However, it might be interesting to explore the potential impact of adjusting prices on specific days. Perhaps offering discounts on select days could prove to be a more strategic approach for the store."
   ]
  },
  {
   "cell_type": "code",
   "execution_count": 67,
   "metadata": {
    "pycharm": {
     "name": "#%%\n"
    }
   },
   "outputs": [
    {
     "name": "stderr",
     "output_type": "stream",
     "text": [
      "C:\\Users\\kruvi\\AppData\\Local\\Temp\\ipykernel_16624\\1017427689.py:11: FutureWarning: The default value of numeric_only in DataFrameGroupBy.median is deprecated. In a future version, numeric_only will default to False. Either specify numeric_only or select only columns which should be valid for the function.\n",
      "  cakestand_median = cakestand_data.groupby('Month').median().fillna(0)\n"
     ]
    },
    {
     "data": {
      "image/png": "[encoded data removed]",
      "text/plain": [
       "<Figure size 1200x600 with 1 Axes>"
      ]
     },
     "metadata": {},
     "output_type": "display_data"
    }
   ],
   "source": [
    "# Convert 'InvoiceDate' to datetime format if it's not already\n",
    "filtered_data['InvoiceDate'] = pd.to_datetime(filtered_data['InvoiceDate'])\n",
    "\n",
    "# Extract month (in YYYY-MM format) from 'InvoiceDate'\n",
    "filtered_data['Month'] = filtered_data['InvoiceDate'].dt.to_period('M').astype(str)\n",
    "\n",
    "# Filter data for \"REGENCY CAKESTAND 3 TIER\"\n",
    "cakestand_data = filtered_data[filtered_data['Description'] == \"REGENCY CAKESTAND 3 TIER\"]\n",
    "\n",
    "# Calculate the median for 'transaction_price', 'UnitPrice', and 'Quantity' for each month\n",
    "cakestand_median = cakestand_data.groupby('Month').median().fillna(0)\n",
    "\n",
    "# Prepare data for plotting\n",
    "months = cakestand_median.index\n",
    "transaction_price_median = cakestand_median['transaction_price']\n",
    "unit_price_median = cakestand_median['UnitPrice']\n",
    "quantity_median = cakestand_median['Quantity']\n",
    "\n",
    "# Plot setup\n",
    "dim = 3  # Three sets of bars (for transaction_price, UnitPrice, and Quantity)\n",
    "w = 0.75  # Total bar width\n",
    "dimw = w / dim  # Width of each individual bar\n",
    "\n",
    "fig, ax = plt.subplots(figsize=(12, 6))  # Create larger plot\n",
    "x = np.arange(len(months))  # X-axis positions\n",
    "\n",
    "# Plot the bars for transaction_price, UnitPrice, and Quantity\n",
    "rects1 = ax.bar(x, transaction_price_median, dimw, label='Transaction Price')\n",
    "rects2 = ax.bar(x + dimw, unit_price_median, dimw, label='Unit Price')\n",
    "rects3 = ax.bar(x + 2 * dimw, quantity_median, dimw, label='Quantity')\n",
    "\n",
    "# Add labels and formatting\n",
    "ax.set_xticks(x + dimw)\n",
    "ax.set_xticklabels(months, rotation=45)\n",
    "ax.set_xlabel('Month')\n",
    "ax.set_ylabel('Median Values')\n",
    "ax.set_title('Median Transaction Price, Unit Price, and Quantity for REGENCY CAKESTAND 3 TIER by Month')\n",
    "ax.legend()\n",
    "\n",
    "# Show the plot\n",
    "plt.tight_layout()\n",
    "plt.show()\n"
   ]
  },
  {
   "cell_type": "markdown",
   "metadata": {
    "pycharm": {
     "name": "#%% md\n"
    }
   },
   "source": [
    "We observe that there is little variation in the data even when analyzed across different months.\n",
    "Now, let’s examine how the results change when we analyze all products instead of focusing solely on the \"REGENCY CAKESTAND 3 TIER."
   ]
  },
  {
   "cell_type": "code",
   "execution_count": 90,
   "metadata": {
    "pycharm": {
     "name": "#%%\n"
    }
   },
   "outputs": [
    {
     "name": "stderr",
     "output_type": "stream",
     "text": [
      "C:\\Users\\kruvi\\AppData\\Local\\Temp\\ipykernel_16624\\629298623.py:8: FutureWarning: The default value of numeric_only in DataFrameGroupBy.median is deprecated. In a future version, numeric_only will default to False. Either specify numeric_only or select only columns which should be valid for the function.\n",
      "  filtered_data = filtered_data.groupby('Month').median().fillna(0)\n"
     ]
    },
    {
     "data": {
      "image/png": "[encoded data removed]",
      "text/plain": [
       "<Figure size 1200x600 with 1 Axes>"
      ]
     },
     "metadata": {},
     "output_type": "display_data"
    }
   ],
   "source": [
    "# Convert 'InvoiceDate' to datetime format if it's not already\n",
    "filtered_data['InvoiceDate'] = pd.to_datetime(filtered_data['InvoiceDate'])\n",
    "\n",
    "# Extract month (in YYYY-MM format) from 'InvoiceDate'\n",
    "filtered_data['Month'] = filtered_data['InvoiceDate'].dt.to_period('M').astype(str)\n",
    "\n",
    "# Calculate the median for 'transaction_price', 'UnitPrice', and 'Quantity' for each month\n",
    "filtered_data_2 = filtered_data.groupby('Month').median().fillna(0)\n",
    "\n",
    "# Prepare data for plotting\n",
    "months = filtered_data_2.index\n",
    "transaction_price_median = filtered_data_2['transaction_price']\n",
    "unit_price_median = filtered_data_2['UnitPrice']\n",
    "quantity_median = filtered_data_2['Quantity']\n",
    "\n",
    "# Plot setup\n",
    "dim = 3  # Three sets of bars (for transaction_price, UnitPrice, and Quantity)\n",
    "w = 0.75  # Total bar width\n",
    "dimw = w / dim  # Width of each individual bar\n",
    "\n",
    "fig, ax = plt.subplots(figsize=(12, 6))  # Create larger plot\n",
    "x = np.arange(len(months))  # X-axis positions\n",
    "\n",
    "# Plot the bars for transaction_price, UnitPrice, and Quantity\n",
    "rects1 = ax.bar(x, transaction_price_median, dimw, label='Transaction Price')\n",
    "rects2 = ax.bar(x + dimw, unit_price_median, dimw, label='Unit Price')\n",
    "rects3 = ax.bar(x + 2 * dimw, quantity_median, dimw, label='Quantity')\n",
    "\n",
    "# Add labels and formatting\n",
    "ax.set_xticks(x + dimw)\n",
    "ax.set_xticklabels(months, rotation=45)\n",
    "ax.set_xlabel('Month')\n",
    "ax.set_ylabel('Median Values')\n",
    "ax.set_title('Median Transaction Price, Unit Price, and Quantity by Month')\n",
    "ax.legend()\n",
    "\n",
    "# Show the plot\n",
    "plt.tight_layout()\n",
    "plt.show()\n"
   ]
  },
  {
   "cell_type": "code",
   "execution_count": 100,
   "metadata": {
    "pycharm": {
     "name": "#%%\n"
    }
   },
   "outputs": [
    {
     "name": "stderr",
     "output_type": "stream",
     "text": [
      "C:\\Users\\kruvi\\AppData\\Local\\Temp\\ipykernel_16624\\4229536174.py:8: FutureWarning: The default value of numeric_only in DataFrameGroupBy.median is deprecated. In a future version, numeric_only will default to False. Either specify numeric_only or select only columns which should be valid for the function.\n",
      "  median_values = filtered_data.groupby('DayOfWeek').median().reindex([\n"
     ]
    },
    {
     "data": {
      "image/png": "[encoded data removed]",
      "text/plain": [
       "<Figure size 1000x600 with 1 Axes>"
      ]
     },
     "metadata": {},
     "output_type": "display_data"
    }
   ],
   "source": [
    "# Convert 'InvoiceDate' to datetime format if it's not already\n",
    "filtered_data['InvoiceDate'] = pd.to_datetime(filtered_data['InvoiceDate'])\n",
    "\n",
    "# Extract day of the week\n",
    "filtered_data['DayOfWeek'] = filtered_data['InvoiceDate'].dt.day_name()\n",
    "\n",
    "# Calculate the median for 'transaction_price', 'UnitPrice', and 'Quantity' for each day of the week\n",
    "median_values = filtered_data.groupby('DayOfWeek').median().reindex([\n",
    "    'Monday', 'Tuesday', 'Wednesday', 'Thursday', 'Friday', 'Saturday', 'Sunday'\n",
    "]).fillna(0)\n",
    "\n",
    "# Prepare data for plotting\n",
    "days_of_week = median_values.index\n",
    "transaction_price_median = median_values['transaction_price']\n",
    "unit_price_median = median_values['UnitPrice']\n",
    "quantity_median = median_values['Quantity']\n",
    "\n",
    "# Plot setup\n",
    "dim = 3  # Three sets of bars (for transaction_price, UnitPrice, and Quantity)\n",
    "w = 0.75  # Total bar width\n",
    "dimw = w / dim  # Width of each individual bar\n",
    "\n",
    "fig, ax = plt.subplots(figsize=(10, 6))  # Create larger plot\n",
    "x = np.arange(len(days_of_week))  # X-axis positions\n",
    "\n",
    "# Plot the bars for transaction_price, UnitPrice, and Quantity\n",
    "rects1 = ax.bar(x, transaction_price_median, dimw, label='Transaction Price')\n",
    "rects2 = ax.bar(x + dimw, unit_price_median, dimw, label='Unit Price')\n",
    "rects3 = ax.bar(x + 2 * dimw, quantity_median, dimw, label='Quantity')\n",
    "\n",
    "# Add labels and formatting\n",
    "ax.set_xticks(x + dimw)\n",
    "ax.set_xticklabels(days_of_week)\n",
    "ax.set_xlabel('Day of the Week')\n",
    "ax.set_ylabel('Median Values')\n",
    "ax.set_title('Median Transaction Price, Unit Price, and Quantity for All Products')\n",
    "ax.legend()\n",
    "\n",
    "# Show the plot\n",
    "plt.show()"
   ]
  },
  {
   "cell_type": "markdown",
   "metadata": {
    "pycharm": {
     "name": "#%% md\n"
    }
   },
   "source": [
    "We observe that the median values for the products show little variation across different days and months.\n",
    "Let's examine how the price impacts the quantity. We'll first analyze this relationship for the product 'REGENCY CAKESTAND 3 TIER,' and then extend the analysis to all products."
   ]
  },
  {
   "cell_type": "code",
   "execution_count": 103,
   "metadata": {
    "pycharm": {
     "name": "#%%\n"
    }
   },
   "outputs": [
    {
     "name": "stdout",
     "output_type": "stream",
     "text": [
      "                            OLS Regression Results                            \n",
      "==============================================================================\n",
      "Dep. Variable:               Quantity   R-squared:                       0.036\n",
      "Model:                            OLS   Adj. R-squared:                  0.035\n",
      "Method:                 Least Squares   F-statistic:                     60.41\n",
      "Date:                Thu, 19 Sep 2024   Prob (F-statistic):           1.36e-14\n",
      "Time:                        15:17:52   Log-Likelihood:                -4834.1\n",
      "No. Observations:                1634   AIC:                             9672.\n",
      "Df Residuals:                    1632   BIC:                             9683.\n",
      "Df Model:                           1                                         \n",
      "Covariance Type:            nonrobust                                         \n",
      "==============================================================================\n",
      "                 coef    std err          t      P>|t|      [0.025      0.975]\n",
      "------------------------------------------------------------------------------\n",
      "Intercept      7.0259      0.383     18.329      0.000       6.274       7.778\n",
      "UnitPrice     -0.1979      0.025     -7.772      0.000      -0.248      -0.148\n",
      "==============================================================================\n",
      "Omnibus:                      440.027   Durbin-Watson:                   1.911\n",
      "Prob(Omnibus):                  0.000   Jarque-Bera (JB):              873.948\n",
      "Skew:                           1.646   Prob(JB):                    1.68e-190\n",
      "Kurtosis:                       4.415   Cond. No.                         50.2\n",
      "==============================================================================\n",
      "\n",
      "Notes:\n",
      "[1] Standard Errors assume that the covariance matrix of the errors is correctly specified.\n"
     ]
    }
   ],
   "source": [
    "filtered_data_3 = filtered_data[filtered_data['Description'] == 'REGENCY CAKESTAND 3 TIER']\n",
    "result = sm.ols(formula=\"Quantity ~ UnitPrice \", data=filtered_data_3).fit()\n",
    "print(result.summary())"
   ]
  },
  {
   "cell_type": "code",
   "execution_count": 104,
   "metadata": {
    "pycharm": {
     "name": "#%%\n"
    }
   },
   "outputs": [
    {
     "name": "stdout",
     "output_type": "stream",
     "text": [
      "                            OLS Regression Results                            \n",
      "==============================================================================\n",
      "Dep. Variable:               Quantity   R-squared:                       0.009\n",
      "Model:                            OLS   Adj. R-squared:                  0.009\n",
      "Method:                 Least Squares   F-statistic:                     4173.\n",
      "Date:                Thu, 19 Sep 2024   Prob (F-statistic):               0.00\n",
      "Time:                        15:18:45   Log-Likelihood:            -1.2602e+06\n",
      "No. Observations:              438576   AIC:                         2.520e+06\n",
      "Df Residuals:                  438574   BIC:                         2.520e+06\n",
      "Df Model:                           1                                         \n",
      "Covariance Type:            nonrobust                                         \n",
      "==============================================================================\n",
      "                 coef    std err          t      P>|t|      [0.025      0.975]\n",
      "------------------------------------------------------------------------------\n",
      "Intercept      4.5714      0.007    679.227      0.000       4.558       4.585\n",
      "UnitPrice     -0.0309      0.000    -64.600      0.000      -0.032      -0.030\n",
      "==============================================================================\n",
      "Omnibus:                    89482.780   Durbin-Watson:                   0.882\n",
      "Prob(Omnibus):                  0.000   Jarque-Bera (JB):           156312.630\n",
      "Skew:                           1.354   Prob(JB):                         0.00\n",
      "Kurtosis:                       4.107   Cond. No.                         14.6\n",
      "==============================================================================\n",
      "\n",
      "Notes:\n",
      "[1] Standard Errors assume that the covariance matrix of the errors is correctly specified.\n"
     ]
    }
   ],
   "source": [
    "result_2 = sm.ols(formula=\"Quantity ~ UnitPrice \", data=filtered_data).fit()\n",
    "print(result_2.summary())"
   ]
  },
  {
   "cell_type": "markdown",
   "metadata": {
    "pycharm": {
     "name": "#%% md\n"
    }
   },
   "source": [
    "We observe that the quantity of 'REGENCY CAKESTAND 3 TIER' is less sensitive to changes in price compared to other products.\n",
    "Next, we will observe the variations across the different days of the week."
   ]
  },
  {
   "cell_type": "code",
   "execution_count": 106,
   "metadata": {
    "pycharm": {
     "name": "#%%\n"
    }
   },
   "outputs": [
    {
     "data": {
      "text/html": [
       "<div>\n",
       "<style scoped>\n",
       "    .dataframe tbody tr th:only-of-type {\n",
       "        vertical-align: middle;\n",
       "    }\n",
       "\n",
       "    .dataframe tbody tr th {\n",
       "        vertical-align: top;\n",
       "    }\n",
       "\n",
       "    .dataframe thead th {\n",
       "        text-align: right;\n",
       "    }\n",
       "</style>\n",
       "<table border=\"1\" class=\"dataframe\">\n",
       "  <thead>\n",
       "    <tr style=\"text-align: right;\">\n",
       "      <th></th>\n",
       "      <th>InvoiceNo</th>\n",
       "      <th>StockCode</th>\n",
       "      <th>Description</th>\n",
       "      <th>Quantity</th>\n",
       "      <th>InvoiceDate</th>\n",
       "      <th>UnitPrice</th>\n",
       "      <th>CustomerID</th>\n",
       "      <th>Country</th>\n",
       "      <th>transaction_price</th>\n",
       "      <th>DayOfWeek</th>\n",
       "      <th>Monday</th>\n",
       "      <th>Tuesday</th>\n",
       "      <th>Wednesday</th>\n",
       "      <th>Thursday</th>\n",
       "      <th>Friday</th>\n",
       "      <th>Saturday</th>\n",
       "      <th>Sunday</th>\n",
       "    </tr>\n",
       "  </thead>\n",
       "  <tbody>\n",
       "    <tr>\n",
       "      <th>0</th>\n",
       "      <td>536365</td>\n",
       "      <td>85123A</td>\n",
       "      <td>WHITE HANGING HEART T-LIGHT HOLDER</td>\n",
       "      <td>6</td>\n",
       "      <td>2010-12-01 08:26:00</td>\n",
       "      <td>2.55</td>\n",
       "      <td>17850.0</td>\n",
       "      <td>United Kingdom</td>\n",
       "      <td>15.30</td>\n",
       "      <td>Wednesday</td>\n",
       "      <td>0</td>\n",
       "      <td>0</td>\n",
       "      <td>1</td>\n",
       "      <td>0</td>\n",
       "      <td>0</td>\n",
       "      <td>0</td>\n",
       "      <td>0</td>\n",
       "    </tr>\n",
       "    <tr>\n",
       "      <th>1</th>\n",
       "      <td>536365</td>\n",
       "      <td>71053</td>\n",
       "      <td>WHITE METAL LANTERN</td>\n",
       "      <td>6</td>\n",
       "      <td>2010-12-01 08:26:00</td>\n",
       "      <td>3.39</td>\n",
       "      <td>17850.0</td>\n",
       "      <td>United Kingdom</td>\n",
       "      <td>20.34</td>\n",
       "      <td>Wednesday</td>\n",
       "      <td>0</td>\n",
       "      <td>0</td>\n",
       "      <td>1</td>\n",
       "      <td>0</td>\n",
       "      <td>0</td>\n",
       "      <td>0</td>\n",
       "      <td>0</td>\n",
       "    </tr>\n",
       "    <tr>\n",
       "      <th>2</th>\n",
       "      <td>536365</td>\n",
       "      <td>84406B</td>\n",
       "      <td>CREAM CUPID HEARTS COAT HANGER</td>\n",
       "      <td>8</td>\n",
       "      <td>2010-12-01 08:26:00</td>\n",
       "      <td>2.75</td>\n",
       "      <td>17850.0</td>\n",
       "      <td>United Kingdom</td>\n",
       "      <td>22.00</td>\n",
       "      <td>Wednesday</td>\n",
       "      <td>0</td>\n",
       "      <td>0</td>\n",
       "      <td>1</td>\n",
       "      <td>0</td>\n",
       "      <td>0</td>\n",
       "      <td>0</td>\n",
       "      <td>0</td>\n",
       "    </tr>\n",
       "    <tr>\n",
       "      <th>3</th>\n",
       "      <td>536365</td>\n",
       "      <td>84029G</td>\n",
       "      <td>KNITTED UNION FLAG HOT WATER BOTTLE</td>\n",
       "      <td>6</td>\n",
       "      <td>2010-12-01 08:26:00</td>\n",
       "      <td>3.39</td>\n",
       "      <td>17850.0</td>\n",
       "      <td>United Kingdom</td>\n",
       "      <td>20.34</td>\n",
       "      <td>Wednesday</td>\n",
       "      <td>0</td>\n",
       "      <td>0</td>\n",
       "      <td>1</td>\n",
       "      <td>0</td>\n",
       "      <td>0</td>\n",
       "      <td>0</td>\n",
       "      <td>0</td>\n",
       "    </tr>\n",
       "    <tr>\n",
       "      <th>4</th>\n",
       "      <td>536365</td>\n",
       "      <td>84029E</td>\n",
       "      <td>RED WOOLLY HOTTIE WHITE HEART.</td>\n",
       "      <td>6</td>\n",
       "      <td>2010-12-01 08:26:00</td>\n",
       "      <td>3.39</td>\n",
       "      <td>17850.0</td>\n",
       "      <td>United Kingdom</td>\n",
       "      <td>20.34</td>\n",
       "      <td>Wednesday</td>\n",
       "      <td>0</td>\n",
       "      <td>0</td>\n",
       "      <td>1</td>\n",
       "      <td>0</td>\n",
       "      <td>0</td>\n",
       "      <td>0</td>\n",
       "      <td>0</td>\n",
       "    </tr>\n",
       "  </tbody>\n",
       "</table>\n",
       "</div>"
      ],
      "text/plain": [
       "  InvoiceNo StockCode                          Description  Quantity  \\\n",
       "0    536365    85123A   WHITE HANGING HEART T-LIGHT HOLDER         6   \n",
       "1    536365     71053                  WHITE METAL LANTERN         6   \n",
       "2    536365    84406B       CREAM CUPID HEARTS COAT HANGER         8   \n",
       "3    536365    84029G  KNITTED UNION FLAG HOT WATER BOTTLE         6   \n",
       "4    536365    84029E       RED WOOLLY HOTTIE WHITE HEART.         6   \n",
       "\n",
       "          InvoiceDate  UnitPrice  CustomerID         Country  \\\n",
       "0 2010-12-01 08:26:00       2.55     17850.0  United Kingdom   \n",
       "1 2010-12-01 08:26:00       3.39     17850.0  United Kingdom   \n",
       "2 2010-12-01 08:26:00       2.75     17850.0  United Kingdom   \n",
       "3 2010-12-01 08:26:00       3.39     17850.0  United Kingdom   \n",
       "4 2010-12-01 08:26:00       3.39     17850.0  United Kingdom   \n",
       "\n",
       "   transaction_price  DayOfWeek  Monday  Tuesday  Wednesday  Thursday  Friday  \\\n",
       "0              15.30  Wednesday       0        0          1         0       0   \n",
       "1              20.34  Wednesday       0        0          1         0       0   \n",
       "2              22.00  Wednesday       0        0          1         0       0   \n",
       "3              20.34  Wednesday       0        0          1         0       0   \n",
       "4              20.34  Wednesday       0        0          1         0       0   \n",
       "\n",
       "   Saturday  Sunday  \n",
       "0         0       0  \n",
       "1         0       0  \n",
       "2         0       0  \n",
       "3         0       0  \n",
       "4         0       0  "
      ]
     },
     "execution_count": 106,
     "metadata": {},
     "output_type": "execute_result"
    }
   ],
   "source": [
    "# Convert 'InvoiceDate' to datetime format if it's not already\n",
    "filtered_data['InvoiceDate'] = pd.to_datetime(filtered_data['InvoiceDate'])\n",
    "\n",
    "# Extract day of the week (0=Monday, 6=Sunday)\n",
    "filtered_data['DayOfWeek'] = filtered_data['InvoiceDate'].dt.day_name()\n",
    "\n",
    "# Create new columns for each day of the week, with 1 if it's that day, else 0\n",
    "days_of_week = ['Monday', 'Tuesday', 'Wednesday', 'Thursday', 'Friday', 'Saturday', 'Sunday']\n",
    "\n",
    "for day in days_of_week:\n",
    "    filtered_data[day] = (filtered_data['DayOfWeek'] == day).astype(int)\n",
    "filtered_data.head() "
   ]
  },
  {
   "cell_type": "code",
   "execution_count": 112,
   "metadata": {
    "pycharm": {
     "name": "#%%\n"
    }
   },
   "outputs": [
    {
     "name": "stderr",
     "output_type": "stream",
     "text": [
      "C:\\Users\\kruvi\\AppData\\Local\\Temp\\ipykernel_16624\\4211416292.py:2: SettingWithCopyWarning: \n",
      "A value is trying to be set on a copy of a slice from a DataFrame.\n",
      "Try using .loc[row_indexer,col_indexer] = value instead\n",
      "\n",
      "See the caveats in the documentation: https://pandas.pydata.org/pandas-docs/stable/user_guide/indexing.html#returning-a-view-versus-a-copy\n",
      "  filtered_data_3['InvoiceDate'] = pd.to_datetime(filtered_data_3['InvoiceDate'])\n",
      "C:\\Users\\kruvi\\AppData\\Local\\Temp\\ipykernel_16624\\4211416292.py:5: SettingWithCopyWarning: \n",
      "A value is trying to be set on a copy of a slice from a DataFrame.\n",
      "Try using .loc[row_indexer,col_indexer] = value instead\n",
      "\n",
      "See the caveats in the documentation: https://pandas.pydata.org/pandas-docs/stable/user_guide/indexing.html#returning-a-view-versus-a-copy\n",
      "  filtered_data_3['DayOfWeek'] = filtered_data_3['InvoiceDate'].dt.day_name()\n",
      "C:\\Users\\kruvi\\AppData\\Local\\Temp\\ipykernel_16624\\4211416292.py:11: SettingWithCopyWarning: \n",
      "A value is trying to be set on a copy of a slice from a DataFrame.\n",
      "Try using .loc[row_indexer,col_indexer] = value instead\n",
      "\n",
      "See the caveats in the documentation: https://pandas.pydata.org/pandas-docs/stable/user_guide/indexing.html#returning-a-view-versus-a-copy\n",
      "  filtered_data_3[day] = (filtered_data_3['DayOfWeek'] == day).astype(int)\n",
      "C:\\Users\\kruvi\\AppData\\Local\\Temp\\ipykernel_16624\\4211416292.py:11: SettingWithCopyWarning: \n",
      "A value is trying to be set on a copy of a slice from a DataFrame.\n",
      "Try using .loc[row_indexer,col_indexer] = value instead\n",
      "\n",
      "See the caveats in the documentation: https://pandas.pydata.org/pandas-docs/stable/user_guide/indexing.html#returning-a-view-versus-a-copy\n",
      "  filtered_data_3[day] = (filtered_data_3['DayOfWeek'] == day).astype(int)\n",
      "C:\\Users\\kruvi\\AppData\\Local\\Temp\\ipykernel_16624\\4211416292.py:11: SettingWithCopyWarning: \n",
      "A value is trying to be set on a copy of a slice from a DataFrame.\n",
      "Try using .loc[row_indexer,col_indexer] = value instead\n",
      "\n",
      "See the caveats in the documentation: https://pandas.pydata.org/pandas-docs/stable/user_guide/indexing.html#returning-a-view-versus-a-copy\n",
      "  filtered_data_3[day] = (filtered_data_3['DayOfWeek'] == day).astype(int)\n",
      "C:\\Users\\kruvi\\AppData\\Local\\Temp\\ipykernel_16624\\4211416292.py:11: SettingWithCopyWarning: \n",
      "A value is trying to be set on a copy of a slice from a DataFrame.\n",
      "Try using .loc[row_indexer,col_indexer] = value instead\n",
      "\n",
      "See the caveats in the documentation: https://pandas.pydata.org/pandas-docs/stable/user_guide/indexing.html#returning-a-view-versus-a-copy\n",
      "  filtered_data_3[day] = (filtered_data_3['DayOfWeek'] == day).astype(int)\n",
      "C:\\Users\\kruvi\\AppData\\Local\\Temp\\ipykernel_16624\\4211416292.py:11: SettingWithCopyWarning: \n",
      "A value is trying to be set on a copy of a slice from a DataFrame.\n",
      "Try using .loc[row_indexer,col_indexer] = value instead\n",
      "\n",
      "See the caveats in the documentation: https://pandas.pydata.org/pandas-docs/stable/user_guide/indexing.html#returning-a-view-versus-a-copy\n",
      "  filtered_data_3[day] = (filtered_data_3['DayOfWeek'] == day).astype(int)\n",
      "C:\\Users\\kruvi\\AppData\\Local\\Temp\\ipykernel_16624\\4211416292.py:11: SettingWithCopyWarning: \n",
      "A value is trying to be set on a copy of a slice from a DataFrame.\n",
      "Try using .loc[row_indexer,col_indexer] = value instead\n",
      "\n",
      "See the caveats in the documentation: https://pandas.pydata.org/pandas-docs/stable/user_guide/indexing.html#returning-a-view-versus-a-copy\n",
      "  filtered_data_3[day] = (filtered_data_3['DayOfWeek'] == day).astype(int)\n",
      "C:\\Users\\kruvi\\AppData\\Local\\Temp\\ipykernel_16624\\4211416292.py:11: SettingWithCopyWarning: \n",
      "A value is trying to be set on a copy of a slice from a DataFrame.\n",
      "Try using .loc[row_indexer,col_indexer] = value instead\n",
      "\n",
      "See the caveats in the documentation: https://pandas.pydata.org/pandas-docs/stable/user_guide/indexing.html#returning-a-view-versus-a-copy\n",
      "  filtered_data_3[day] = (filtered_data_3['DayOfWeek'] == day).astype(int)\n"
     ]
    },
    {
     "data": {
      "text/html": [
       "<div>\n",
       "<style scoped>\n",
       "    .dataframe tbody tr th:only-of-type {\n",
       "        vertical-align: middle;\n",
       "    }\n",
       "\n",
       "    .dataframe tbody tr th {\n",
       "        vertical-align: top;\n",
       "    }\n",
       "\n",
       "    .dataframe thead th {\n",
       "        text-align: right;\n",
       "    }\n",
       "</style>\n",
       "<table border=\"1\" class=\"dataframe\">\n",
       "  <thead>\n",
       "    <tr style=\"text-align: right;\">\n",
       "      <th></th>\n",
       "      <th>InvoiceNo</th>\n",
       "      <th>StockCode</th>\n",
       "      <th>Description</th>\n",
       "      <th>Quantity</th>\n",
       "      <th>InvoiceDate</th>\n",
       "      <th>UnitPrice</th>\n",
       "      <th>CustomerID</th>\n",
       "      <th>Country</th>\n",
       "      <th>transaction_price</th>\n",
       "      <th>DayOfWeek</th>\n",
       "      <th>Monday</th>\n",
       "      <th>Tuesday</th>\n",
       "      <th>Wednesday</th>\n",
       "      <th>Thursday</th>\n",
       "      <th>Friday</th>\n",
       "      <th>Saturday</th>\n",
       "      <th>Sunday</th>\n",
       "    </tr>\n",
       "  </thead>\n",
       "  <tbody>\n",
       "    <tr>\n",
       "      <th>880</th>\n",
       "      <td>536477</td>\n",
       "      <td>22423</td>\n",
       "      <td>REGENCY CAKESTAND 3 TIER</td>\n",
       "      <td>16</td>\n",
       "      <td>2010-12-01 12:27:00</td>\n",
       "      <td>10.95</td>\n",
       "      <td>16210.0</td>\n",
       "      <td>United Kingdom</td>\n",
       "      <td>175.20</td>\n",
       "      <td>Wednesday</td>\n",
       "      <td>0</td>\n",
       "      <td>0</td>\n",
       "      <td>1</td>\n",
       "      <td>0</td>\n",
       "      <td>0</td>\n",
       "      <td>0</td>\n",
       "      <td>0</td>\n",
       "    </tr>\n",
       "    <tr>\n",
       "      <th>936</th>\n",
       "      <td>536502</td>\n",
       "      <td>22423</td>\n",
       "      <td>REGENCY CAKESTAND 3 TIER</td>\n",
       "      <td>2</td>\n",
       "      <td>2010-12-01 12:36:00</td>\n",
       "      <td>12.75</td>\n",
       "      <td>16552.0</td>\n",
       "      <td>United Kingdom</td>\n",
       "      <td>25.50</td>\n",
       "      <td>Wednesday</td>\n",
       "      <td>0</td>\n",
       "      <td>0</td>\n",
       "      <td>1</td>\n",
       "      <td>0</td>\n",
       "      <td>0</td>\n",
       "      <td>0</td>\n",
       "      <td>0</td>\n",
       "    </tr>\n",
       "    <tr>\n",
       "      <th>1092</th>\n",
       "      <td>536525</td>\n",
       "      <td>22423</td>\n",
       "      <td>REGENCY CAKESTAND 3 TIER</td>\n",
       "      <td>2</td>\n",
       "      <td>2010-12-01 12:54:00</td>\n",
       "      <td>12.75</td>\n",
       "      <td>14078.0</td>\n",
       "      <td>United Kingdom</td>\n",
       "      <td>25.50</td>\n",
       "      <td>Wednesday</td>\n",
       "      <td>0</td>\n",
       "      <td>0</td>\n",
       "      <td>1</td>\n",
       "      <td>0</td>\n",
       "      <td>0</td>\n",
       "      <td>0</td>\n",
       "      <td>0</td>\n",
       "    </tr>\n",
       "    <tr>\n",
       "      <th>1155</th>\n",
       "      <td>536528</td>\n",
       "      <td>22423</td>\n",
       "      <td>REGENCY CAKESTAND 3 TIER</td>\n",
       "      <td>1</td>\n",
       "      <td>2010-12-01 13:17:00</td>\n",
       "      <td>12.75</td>\n",
       "      <td>15525.0</td>\n",
       "      <td>United Kingdom</td>\n",
       "      <td>12.75</td>\n",
       "      <td>Wednesday</td>\n",
       "      <td>0</td>\n",
       "      <td>0</td>\n",
       "      <td>1</td>\n",
       "      <td>0</td>\n",
       "      <td>0</td>\n",
       "      <td>0</td>\n",
       "      <td>0</td>\n",
       "    </tr>\n",
       "    <tr>\n",
       "      <th>1197</th>\n",
       "      <td>536530</td>\n",
       "      <td>22423</td>\n",
       "      <td>REGENCY CAKESTAND 3 TIER</td>\n",
       "      <td>1</td>\n",
       "      <td>2010-12-01 13:21:00</td>\n",
       "      <td>12.75</td>\n",
       "      <td>17905.0</td>\n",
       "      <td>United Kingdom</td>\n",
       "      <td>12.75</td>\n",
       "      <td>Wednesday</td>\n",
       "      <td>0</td>\n",
       "      <td>0</td>\n",
       "      <td>1</td>\n",
       "      <td>0</td>\n",
       "      <td>0</td>\n",
       "      <td>0</td>\n",
       "      <td>0</td>\n",
       "    </tr>\n",
       "  </tbody>\n",
       "</table>\n",
       "</div>"
      ],
      "text/plain": [
       "     InvoiceNo StockCode               Description  Quantity  \\\n",
       "880     536477     22423  REGENCY CAKESTAND 3 TIER        16   \n",
       "936     536502     22423  REGENCY CAKESTAND 3 TIER         2   \n",
       "1092    536525     22423  REGENCY CAKESTAND 3 TIER         2   \n",
       "1155    536528     22423  REGENCY CAKESTAND 3 TIER         1   \n",
       "1197    536530     22423  REGENCY CAKESTAND 3 TIER         1   \n",
       "\n",
       "             InvoiceDate  UnitPrice  CustomerID         Country  \\\n",
       "880  2010-12-01 12:27:00      10.95     16210.0  United Kingdom   \n",
       "936  2010-12-01 12:36:00      12.75     16552.0  United Kingdom   \n",
       "1092 2010-12-01 12:54:00      12.75     14078.0  United Kingdom   \n",
       "1155 2010-12-01 13:17:00      12.75     15525.0  United Kingdom   \n",
       "1197 2010-12-01 13:21:00      12.75     17905.0  United Kingdom   \n",
       "\n",
       "      transaction_price  DayOfWeek  Monday  Tuesday  Wednesday  Thursday  \\\n",
       "880              175.20  Wednesday       0        0          1         0   \n",
       "936               25.50  Wednesday       0        0          1         0   \n",
       "1092              25.50  Wednesday       0        0          1         0   \n",
       "1155              12.75  Wednesday       0        0          1         0   \n",
       "1197              12.75  Wednesday       0        0          1         0   \n",
       "\n",
       "      Friday  Saturday  Sunday  \n",
       "880        0         0       0  \n",
       "936        0         0       0  \n",
       "1092       0         0       0  \n",
       "1155       0         0       0  \n",
       "1197       0         0       0  "
      ]
     },
     "execution_count": 112,
     "metadata": {},
     "output_type": "execute_result"
    }
   ],
   "source": [
    "# Convert 'InvoiceDate' to datetime format if it's not already\n",
    "filtered_data_3['InvoiceDate'] = pd.to_datetime(filtered_data_3['InvoiceDate'])\n",
    "\n",
    "# Extract day of the week (0=Monday, 6=Sunday)\n",
    "filtered_data_3['DayOfWeek'] = filtered_data_3['InvoiceDate'].dt.day_name()\n",
    "\n",
    "# Create new columns for each day of the week, with 1 if it's that day, else 0\n",
    "days_of_week = ['Monday', 'Tuesday', 'Wednesday', 'Thursday', 'Friday', 'Saturday', 'Sunday']\n",
    "\n",
    "for day in days_of_week:\n",
    "    filtered_data_3[day] = (filtered_data_3['DayOfWeek'] == day).astype(int)\n",
    "filtered_data_3.head() "
   ]
  },
  {
   "cell_type": "code",
   "execution_count": 114,
   "metadata": {
    "pycharm": {
     "name": "#%%\n"
    }
   },
   "outputs": [
    {
     "name": "stdout",
     "output_type": "stream",
     "text": [
      "                            OLS Regression Results                            \n",
      "==============================================================================\n",
      "Dep. Variable:               Quantity   R-squared:                       0.041\n",
      "Model:                            OLS   Adj. R-squared:                  0.038\n",
      "Method:                 Least Squares   F-statistic:                     11.64\n",
      "Date:                Fri, 20 Sep 2024   Prob (F-statistic):           8.54e-13\n",
      "Time:                        12:38:08   Log-Likelihood:                -4829.5\n",
      "No. Observations:                1634   AIC:                             9673.\n",
      "Df Residuals:                    1627   BIC:                             9711.\n",
      "Df Model:                           6                                         \n",
      "Covariance Type:            nonrobust                                         \n",
      "==============================================================================\n",
      "                 coef    std err          t      P>|t|      [0.025      0.975]\n",
      "------------------------------------------------------------------------------\n",
      "Intercept      6.7400      0.473     14.236      0.000       5.811       7.669\n",
      "UnitPrice     -0.2036      0.026     -7.885      0.000      -0.254      -0.153\n",
      "Tuesday        0.4386      0.396      1.108      0.268      -0.338       1.215\n",
      "Wednesday      0.4146      0.401      1.033      0.302      -0.373       1.202\n",
      "Thursday       0.6129      0.372      1.648      0.100      -0.117       1.342\n",
      "Friday         0.7635      0.409      1.865      0.062      -0.039       1.566\n",
      "Saturday            0          0        nan        nan           0           0\n",
      "Sunday        -0.4172      0.465     -0.898      0.369      -1.329       0.494\n",
      "==============================================================================\n",
      "Omnibus:                      439.655   Durbin-Watson:                   1.917\n",
      "Prob(Omnibus):                  0.000   Jarque-Bera (JB):              873.489\n",
      "Skew:                           1.642   Prob(JB):                    2.11e-190\n",
      "Kurtosis:                       4.428   Cond. No.                          inf\n",
      "==============================================================================\n",
      "\n",
      "Notes:\n",
      "[1] Standard Errors assume that the covariance matrix of the errors is correctly specified.\n",
      "[2] The smallest eigenvalue is      0. This might indicate that there are\n",
      "strong multicollinearity problems or that the design matrix is singular.\n"
     ]
    },
    {
     "name": "stderr",
     "output_type": "stream",
     "text": [
      "C:\\Users\\kruvi\\anaconda3\\lib\\site-packages\\statsmodels\\regression\\linear_model.py:1934: RuntimeWarning: divide by zero encountered in double_scalars\n",
      "  return np.sqrt(eigvals[0]/eigvals[-1])\n"
     ]
    }
   ],
   "source": [
    "result_3 = sm.ols(formula=\"Quantity ~ UnitPrice + Tuesday + Wednesday + Thursday + Friday + Saturday + Sunday \", data=filtered_data_3).fit()\n",
    "print(result_3.summary())"
   ]
  },
  {
   "cell_type": "code",
   "execution_count": 115,
   "metadata": {
    "pycharm": {
     "name": "#%%\n"
    }
   },
   "outputs": [
    {
     "name": "stdout",
     "output_type": "stream",
     "text": [
      "                            OLS Regression Results                            \n",
      "==============================================================================\n",
      "Dep. Variable:               Quantity   R-squared:                       0.013\n",
      "Model:                            OLS   Adj. R-squared:                  0.013\n",
      "Method:                 Least Squares   F-statistic:                     988.8\n",
      "Date:                Fri, 20 Sep 2024   Prob (F-statistic):               0.00\n",
      "Time:                        12:38:49   Log-Likelihood:            -1.2593e+06\n",
      "No. Observations:              438576   AIC:                         2.519e+06\n",
      "Df Residuals:                  438569   BIC:                         2.519e+06\n",
      "Df Model:                           6                                         \n",
      "Covariance Type:            nonrobust                                         \n",
      "==============================================================================\n",
      "                 coef    std err          t      P>|t|      [0.025      0.975]\n",
      "------------------------------------------------------------------------------\n",
      "Intercept      4.3515      0.015    282.307      0.000       4.321       4.382\n",
      "UnitPrice     -0.0311      0.000    -65.119      0.000      -0.032      -0.030\n",
      "Tuesday        0.1079      0.021      5.066      0.000       0.066       0.150\n",
      "Wednesday      0.3177      0.022     14.558      0.000       0.275       0.360\n",
      "Thursday       0.6603      0.021     30.772      0.000       0.618       0.702\n",
      "Friday         0.3362      0.023     14.819      0.000       0.292       0.381\n",
      "Saturday            0          0        nan        nan           0           0\n",
      "Sunday        -0.1962      0.024     -8.315      0.000      -0.242      -0.150\n",
      "==============================================================================\n",
      "Omnibus:                    89304.095   Durbin-Watson:                   0.885\n",
      "Prob(Omnibus):                  0.000   Jarque-Bera (JB):           156011.258\n",
      "Skew:                           1.349   Prob(JB):                         0.00\n",
      "Kurtosis:                       4.121   Cond. No.                     3.01e+24\n",
      "==============================================================================\n",
      "\n",
      "Notes:\n",
      "[1] Standard Errors assume that the covariance matrix of the errors is correctly specified.\n",
      "[2] The smallest eigenvalue is 9.59e-42. This might indicate that there are\n",
      "strong multicollinearity problems or that the design matrix is singular.\n"
     ]
    }
   ],
   "source": [
    "result_4 = sm.ols(formula=\"Quantity ~ UnitPrice + Tuesday + Wednesday + Thursday + Friday + Saturday + Sunday \", data=filtered_data).fit()\n",
    "print(result_4.summary())"
   ]
  },
  {
   "cell_type": "markdown",
   "metadata": {
    "pycharm": {
     "name": "#%% md\n"
    }
   },
   "source": [
    "We can observe that Sundays generally have a lower average quantity per sale across all products, particularly for the 'REGENCY CAKESTAND 3 TIER.'"
   ]
  },
  {
   "cell_type": "code",
   "execution_count": 117,
   "metadata": {
    "pycharm": {
     "name": "#%%\n"
    }
   },
   "outputs": [
    {
     "name": "stdout",
     "output_type": "stream",
     "text": [
      "                            OLS Regression Results                            \n",
      "==============================================================================\n",
      "Dep. Variable:              UnitPrice   R-squared:                       0.031\n",
      "Model:                            OLS   Adj. R-squared:                  0.028\n",
      "Method:                 Least Squares   F-statistic:                     10.37\n",
      "Date:                Fri, 20 Sep 2024   Prob (F-statistic):           8.22e-10\n",
      "Time:                        12:41:43   Log-Likelihood:                -4762.8\n",
      "No. Observations:                1634   AIC:                             9538.\n",
      "Df Residuals:                    1628   BIC:                             9570.\n",
      "Df Model:                           5                                         \n",
      "Covariance Type:            nonrobust                                         \n",
      "==============================================================================\n",
      "                 coef    std err          t      P>|t|      [0.025      0.975]\n",
      "------------------------------------------------------------------------------\n",
      "Intercept     14.6192      0.274     53.325      0.000      14.082      15.157\n",
      "Tuesday        0.8895      0.379      2.345      0.019       0.146       1.634\n",
      "Wednesday     -0.6863      0.385     -1.783      0.075      -1.441       0.069\n",
      "Thursday      -0.8251      0.356     -2.316      0.021      -1.524      -0.126\n",
      "Friday         0.4123      0.393      1.050      0.294      -0.358       1.182\n",
      "Saturday            0          0        nan        nan           0           0\n",
      "Sunday        -1.7149      0.444     -3.863      0.000      -2.586      -0.844\n",
      "==============================================================================\n",
      "Omnibus:                      520.162   Durbin-Watson:                   1.780\n",
      "Prob(Omnibus):                  0.000   Jarque-Bera (JB):             1183.229\n",
      "Skew:                           1.835   Prob(JB):                    1.16e-257\n",
      "Kurtosis:                       4.977   Cond. No.                          inf\n",
      "==============================================================================\n",
      "\n",
      "Notes:\n",
      "[1] Standard Errors assume that the covariance matrix of the errors is correctly specified.\n",
      "[2] The smallest eigenvalue is      0. This might indicate that there are\n",
      "strong multicollinearity problems or that the design matrix is singular.\n"
     ]
    },
    {
     "name": "stderr",
     "output_type": "stream",
     "text": [
      "C:\\Users\\kruvi\\anaconda3\\lib\\site-packages\\statsmodels\\regression\\linear_model.py:1934: RuntimeWarning: divide by zero encountered in double_scalars\n",
      "  return np.sqrt(eigvals[0]/eigvals[-1])\n"
     ]
    }
   ],
   "source": [
    " result_5 = sm.ols(formula=\"UnitPrice ~ Tuesday + Wednesday + Thursday + Friday + Saturday + Sunday \", data=filtered_data_3).fit()\n",
    "print(result_5.summary())"
   ]
  },
  {
   "cell_type": "code",
   "execution_count": 118,
   "metadata": {
    "pycharm": {
     "name": "#%%\n"
    }
   },
   "outputs": [
    {
     "name": "stdout",
     "output_type": "stream",
     "text": [
      "                            OLS Regression Results                            \n",
      "==============================================================================\n",
      "Dep. Variable:              UnitPrice   R-squared:                       0.001\n",
      "Model:                            OLS   Adj. R-squared:                  0.001\n",
      "Method:                 Least Squares   F-statistic:                     80.19\n",
      "Date:                Fri, 20 Sep 2024   Prob (F-statistic):           2.03e-84\n",
      "Time:                        12:41:45   Log-Likelihood:            -1.7638e+06\n",
      "No. Observations:              438576   AIC:                         3.528e+06\n",
      "Df Residuals:                  438570   BIC:                         3.528e+06\n",
      "Df Model:                           5                                         \n",
      "Covariance Type:            nonrobust                                         \n",
      "==============================================================================\n",
      "                 coef    std err          t      P>|t|      [0.025      0.975]\n",
      "------------------------------------------------------------------------------\n",
      "Intercept      4.1353      0.048     85.630      0.000       4.041       4.230\n",
      "Tuesday        0.0946      0.067      1.406      0.160      -0.037       0.226\n",
      "Wednesday     -0.2449      0.069     -3.552      0.000      -0.380      -0.110\n",
      "Thursday      -0.2896      0.068     -4.272      0.000      -0.422      -0.157\n",
      "Friday         0.0237      0.072      0.330      0.741      -0.117       0.164\n",
      "Saturday            0          0        nan        nan           0           0\n",
      "Sunday        -1.2224      0.075    -16.402      0.000      -1.368      -1.076\n",
      "==============================================================================\n",
      "Omnibus:                  1265701.837   Durbin-Watson:                   1.936\n",
      "Prob(Omnibus):                  0.000   Jarque-Bera (JB):      78817696705.767\n",
      "Skew:                          39.741   Prob(JB):                         0.00\n",
      "Kurtosis:                    2078.280   Cond. No.                          inf\n",
      "==============================================================================\n",
      "\n",
      "Notes:\n",
      "[1] Standard Errors assume that the covariance matrix of the errors is correctly specified.\n",
      "[2] The smallest eigenvalue is      0. This might indicate that there are\n",
      "strong multicollinearity problems or that the design matrix is singular.\n"
     ]
    },
    {
     "name": "stderr",
     "output_type": "stream",
     "text": [
      "C:\\Users\\kruvi\\anaconda3\\lib\\site-packages\\statsmodels\\regression\\linear_model.py:1934: RuntimeWarning: divide by zero encountered in double_scalars\n",
      "  return np.sqrt(eigvals[0]/eigvals[-1])\n"
     ]
    }
   ],
   "source": [
    "result_6 = sm.ols(formula=\"UnitPrice ~ Tuesday + Wednesday + Thursday + Friday + Saturday + Sunday \", data=filtered_data).fit()\n",
    "print(result_6.summary())"
   ]
  },
  {
   "cell_type": "markdown",
   "metadata": {
    "pycharm": {
     "name": "#%% md\n"
    }
   },
   "source": [
    "We can observe that Sunday has the lowest average price compared to other days."
   ]
  },
  {
   "cell_type": "markdown",
   "metadata": {
    "pycharm": {
     "name": "#%% md\n"
    }
   },
   "source": [
    "## Conclusion"
   ]
  },
  {
   "cell_type": "markdown",
   "metadata": {
    "pycharm": {
     "name": "#%% md\n"
    }
   },
   "source": [
    "In this analysis, we identified key insights about the website's transactions. The most significant cost for customers is 'Dotcom postage', although it is not a typical product but rather a service charge. Among the actual products, the most important ones are 'Regency Cakestand 3 Tier', 'Party Bunting', and 'White Hanging Heart T-Light Holder'. Additionally, the vast majority of transactions are made in the UK, confirming its central role in the site's customer base.\n",
    "\n",
    "Interestingly, Sunday stands out as the day with the lowest average prices, and customers tend to purchase fewer items per transaction on this day. However, despite these variations in pricing and quantity, the total value of transactions remains fairly consistent across different days of the week and throughout the months, indicating that the overall revenue is not significantly affected by these fluctuations in behavior."
   ]
  },
  {
   "cell_type": "code",
   "execution_count": null,
   "metadata": {
    "pycharm": {
     "name": "#%%\n"
    }
   },
   "outputs": [],
   "source": []
  }
 ],
 "metadata": {
  "kernelspec": {
   "display_name": "Python 3 (ipykernel)",
   "language": "python",
   "name": "python3"
  },
  "language_info": {
   "codemirror_mode": {
    "name": "ipython",
    "version": 3
   },
   "file_extension": ".py",
   "mimetype": "text/x-python",
   "name": "python",
   "nbconvert_exporter": "python",
   "pygments_lexer": "ipython3",
   "version": "3.10.9"
  }
 },
 "nbformat": 4,
 "nbformat_minor": 4
}